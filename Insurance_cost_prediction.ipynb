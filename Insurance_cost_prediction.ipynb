{
  "nbformat": 4,
  "nbformat_minor": 0,
  "metadata": {
    "colab": {
      "name": "Insurance_cost_prediction.ipynb",
      "provenance": [],
      "collapsed_sections": [],
      "toc_visible": true
    },
    "kernelspec": {
      "name": "python3",
      "display_name": "Python 3"
    },
    "language_info": {
      "name": "python"
    }
  },
  "cells": [
    {
      "cell_type": "markdown",
      "source": [
        "## Importing the libraries"
      ],
      "metadata": {
        "id": "Ow0BYPr1D6OG"
      }
    },
    {
      "cell_type": "code",
      "source": [
        "import numpy as np\n",
        "import matplotlib.pyplot as plt\n",
        "import pandas as pd\n",
        "import seaborn as sns\n",
        "from sklearn import metrics\n",
        "from sklearn.preprocessing import StandardScaler\n",
        "from sklearn.metrics import mean_squared_error as MSE\n",
        "from sklearn.metrics import mean_absolute_error as MAE\n",
        "from sklearn.metrics import r2_score as r2"
      ],
      "metadata": {
        "id": "q2-5xULaF5hr"
      },
      "execution_count": 49,
      "outputs": []
    },
    {
      "cell_type": "markdown",
      "source": [
        "## Importing the dataset"
      ],
      "metadata": {
        "id": "67ieB68lGtDE"
      }
    },
    {
      "cell_type": "code",
      "source": [
        "dataset = pd.read_csv('InsuranceCostPrediction.csv')"
      ],
      "metadata": {
        "id": "ODRSEMADG1vh"
      },
      "execution_count": 2,
      "outputs": []
    },
    {
      "cell_type": "code",
      "source": [
        "dataset.head()"
      ],
      "metadata": {
        "colab": {
          "base_uri": "https://localhost:8080/",
          "height": 206
        },
        "id": "LzITAU6FH4SJ",
        "outputId": "dcaeb02b-ae34-49b5-a0e2-848acdb1d9f1"
      },
      "execution_count": 3,
      "outputs": [
        {
          "output_type": "execute_result",
          "data": {
            "text/plain": [
              "               Time  age  children   BMI smoker diabetes surgery  \\\n",
              "0  03/11/2022 15:23   36         2  26.6     No       No     Yes   \n",
              "1  03/11/2022 15:24   32         0  20.8     No       No      No   \n",
              "2  03/11/2022 15:26   28         0  22.3     No       No      No   \n",
              "3  03/11/2022 15:27   68         4  28.2    Yes      Yes     Yes   \n",
              "4  03/11/2022 15:30   55         4  31.0     No       No     Yes   \n",
              "\n",
              "  chronic disease  gender  insurance amount  \n",
              "0              No  Female             19000  \n",
              "1             Yes  Female             25000  \n",
              "2              No  Female             18000  \n",
              "3             Yes    Male             40000  \n",
              "4             Yes  Female             30000  "
            ],
            "text/html": [
              "\n",
              "  <div id=\"df-46ef1939-10eb-4cae-83a8-f25d6d93b247\">\n",
              "    <div class=\"colab-df-container\">\n",
              "      <div>\n",
              "<style scoped>\n",
              "    .dataframe tbody tr th:only-of-type {\n",
              "        vertical-align: middle;\n",
              "    }\n",
              "\n",
              "    .dataframe tbody tr th {\n",
              "        vertical-align: top;\n",
              "    }\n",
              "\n",
              "    .dataframe thead th {\n",
              "        text-align: right;\n",
              "    }\n",
              "</style>\n",
              "<table border=\"1\" class=\"dataframe\">\n",
              "  <thead>\n",
              "    <tr style=\"text-align: right;\">\n",
              "      <th></th>\n",
              "      <th>Time</th>\n",
              "      <th>age</th>\n",
              "      <th>children</th>\n",
              "      <th>BMI</th>\n",
              "      <th>smoker</th>\n",
              "      <th>diabetes</th>\n",
              "      <th>surgery</th>\n",
              "      <th>chronic disease</th>\n",
              "      <th>gender</th>\n",
              "      <th>insurance amount</th>\n",
              "    </tr>\n",
              "  </thead>\n",
              "  <tbody>\n",
              "    <tr>\n",
              "      <th>0</th>\n",
              "      <td>03/11/2022 15:23</td>\n",
              "      <td>36</td>\n",
              "      <td>2</td>\n",
              "      <td>26.6</td>\n",
              "      <td>No</td>\n",
              "      <td>No</td>\n",
              "      <td>Yes</td>\n",
              "      <td>No</td>\n",
              "      <td>Female</td>\n",
              "      <td>19000</td>\n",
              "    </tr>\n",
              "    <tr>\n",
              "      <th>1</th>\n",
              "      <td>03/11/2022 15:24</td>\n",
              "      <td>32</td>\n",
              "      <td>0</td>\n",
              "      <td>20.8</td>\n",
              "      <td>No</td>\n",
              "      <td>No</td>\n",
              "      <td>No</td>\n",
              "      <td>Yes</td>\n",
              "      <td>Female</td>\n",
              "      <td>25000</td>\n",
              "    </tr>\n",
              "    <tr>\n",
              "      <th>2</th>\n",
              "      <td>03/11/2022 15:26</td>\n",
              "      <td>28</td>\n",
              "      <td>0</td>\n",
              "      <td>22.3</td>\n",
              "      <td>No</td>\n",
              "      <td>No</td>\n",
              "      <td>No</td>\n",
              "      <td>No</td>\n",
              "      <td>Female</td>\n",
              "      <td>18000</td>\n",
              "    </tr>\n",
              "    <tr>\n",
              "      <th>3</th>\n",
              "      <td>03/11/2022 15:27</td>\n",
              "      <td>68</td>\n",
              "      <td>4</td>\n",
              "      <td>28.2</td>\n",
              "      <td>Yes</td>\n",
              "      <td>Yes</td>\n",
              "      <td>Yes</td>\n",
              "      <td>Yes</td>\n",
              "      <td>Male</td>\n",
              "      <td>40000</td>\n",
              "    </tr>\n",
              "    <tr>\n",
              "      <th>4</th>\n",
              "      <td>03/11/2022 15:30</td>\n",
              "      <td>55</td>\n",
              "      <td>4</td>\n",
              "      <td>31.0</td>\n",
              "      <td>No</td>\n",
              "      <td>No</td>\n",
              "      <td>Yes</td>\n",
              "      <td>Yes</td>\n",
              "      <td>Female</td>\n",
              "      <td>30000</td>\n",
              "    </tr>\n",
              "  </tbody>\n",
              "</table>\n",
              "</div>\n",
              "      <button class=\"colab-df-convert\" onclick=\"convertToInteractive('df-46ef1939-10eb-4cae-83a8-f25d6d93b247')\"\n",
              "              title=\"Convert this dataframe to an interactive table.\"\n",
              "              style=\"display:none;\">\n",
              "        \n",
              "  <svg xmlns=\"http://www.w3.org/2000/svg\" height=\"24px\"viewBox=\"0 0 24 24\"\n",
              "       width=\"24px\">\n",
              "    <path d=\"M0 0h24v24H0V0z\" fill=\"none\"/>\n",
              "    <path d=\"M18.56 5.44l.94 2.06.94-2.06 2.06-.94-2.06-.94-.94-2.06-.94 2.06-2.06.94zm-11 1L8.5 8.5l.94-2.06 2.06-.94-2.06-.94L8.5 2.5l-.94 2.06-2.06.94zm10 10l.94 2.06.94-2.06 2.06-.94-2.06-.94-.94-2.06-.94 2.06-2.06.94z\"/><path d=\"M17.41 7.96l-1.37-1.37c-.4-.4-.92-.59-1.43-.59-.52 0-1.04.2-1.43.59L10.3 9.45l-7.72 7.72c-.78.78-.78 2.05 0 2.83L4 21.41c.39.39.9.59 1.41.59.51 0 1.02-.2 1.41-.59l7.78-7.78 2.81-2.81c.8-.78.8-2.07 0-2.86zM5.41 20L4 18.59l7.72-7.72 1.47 1.35L5.41 20z\"/>\n",
              "  </svg>\n",
              "      </button>\n",
              "      \n",
              "  <style>\n",
              "    .colab-df-container {\n",
              "      display:flex;\n",
              "      flex-wrap:wrap;\n",
              "      gap: 12px;\n",
              "    }\n",
              "\n",
              "    .colab-df-convert {\n",
              "      background-color: #E8F0FE;\n",
              "      border: none;\n",
              "      border-radius: 50%;\n",
              "      cursor: pointer;\n",
              "      display: none;\n",
              "      fill: #1967D2;\n",
              "      height: 32px;\n",
              "      padding: 0 0 0 0;\n",
              "      width: 32px;\n",
              "    }\n",
              "\n",
              "    .colab-df-convert:hover {\n",
              "      background-color: #E2EBFA;\n",
              "      box-shadow: 0px 1px 2px rgba(60, 64, 67, 0.3), 0px 1px 3px 1px rgba(60, 64, 67, 0.15);\n",
              "      fill: #174EA6;\n",
              "    }\n",
              "\n",
              "    [theme=dark] .colab-df-convert {\n",
              "      background-color: #3B4455;\n",
              "      fill: #D2E3FC;\n",
              "    }\n",
              "\n",
              "    [theme=dark] .colab-df-convert:hover {\n",
              "      background-color: #434B5C;\n",
              "      box-shadow: 0px 1px 3px 1px rgba(0, 0, 0, 0.15);\n",
              "      filter: drop-shadow(0px 1px 2px rgba(0, 0, 0, 0.3));\n",
              "      fill: #FFFFFF;\n",
              "    }\n",
              "  </style>\n",
              "\n",
              "      <script>\n",
              "        const buttonEl =\n",
              "          document.querySelector('#df-46ef1939-10eb-4cae-83a8-f25d6d93b247 button.colab-df-convert');\n",
              "        buttonEl.style.display =\n",
              "          google.colab.kernel.accessAllowed ? 'block' : 'none';\n",
              "\n",
              "        async function convertToInteractive(key) {\n",
              "          const element = document.querySelector('#df-46ef1939-10eb-4cae-83a8-f25d6d93b247');\n",
              "          const dataTable =\n",
              "            await google.colab.kernel.invokeFunction('convertToInteractive',\n",
              "                                                     [key], {});\n",
              "          if (!dataTable) return;\n",
              "\n",
              "          const docLinkHtml = 'Like what you see? Visit the ' +\n",
              "            '<a target=\"_blank\" href=https://colab.research.google.com/notebooks/data_table.ipynb>data table notebook</a>'\n",
              "            + ' to learn more about interactive tables.';\n",
              "          element.innerHTML = '';\n",
              "          dataTable['output_type'] = 'display_data';\n",
              "          await google.colab.output.renderOutput(dataTable, element);\n",
              "          const docLink = document.createElement('div');\n",
              "          docLink.innerHTML = docLinkHtml;\n",
              "          element.appendChild(docLink);\n",
              "        }\n",
              "      </script>\n",
              "    </div>\n",
              "  </div>\n",
              "  "
            ]
          },
          "metadata": {},
          "execution_count": 3
        }
      ]
    },
    {
      "cell_type": "code",
      "source": [
        "dataset.shape"
      ],
      "metadata": {
        "colab": {
          "base_uri": "https://localhost:8080/"
        },
        "id": "WSHcrQtGKhWa",
        "outputId": "4f4b039e-2426-41b2-dc55-fb9d34b1c2f9"
      },
      "execution_count": 4,
      "outputs": [
        {
          "output_type": "execute_result",
          "data": {
            "text/plain": [
              "(300, 10)"
            ]
          },
          "metadata": {},
          "execution_count": 4
        }
      ]
    },
    {
      "cell_type": "code",
      "source": [
        "dataset.info()"
      ],
      "metadata": {
        "colab": {
          "base_uri": "https://localhost:8080/"
        },
        "id": "ZlycKvVZKxsN",
        "outputId": "9197de2b-ebec-4299-8af1-7390759eb8ed"
      },
      "execution_count": 5,
      "outputs": [
        {
          "output_type": "stream",
          "name": "stdout",
          "text": [
            "<class 'pandas.core.frame.DataFrame'>\n",
            "RangeIndex: 300 entries, 0 to 299\n",
            "Data columns (total 10 columns):\n",
            " #   Column            Non-Null Count  Dtype  \n",
            "---  ------            --------------  -----  \n",
            " 0   Time              300 non-null    object \n",
            " 1   age               300 non-null    int64  \n",
            " 2   children          300 non-null    int64  \n",
            " 3   BMI               300 non-null    float64\n",
            " 4   smoker            300 non-null    object \n",
            " 5   diabetes          300 non-null    object \n",
            " 6   surgery           300 non-null    object \n",
            " 7   chronic disease   300 non-null    object \n",
            " 8   gender            300 non-null    object \n",
            " 9   insurance amount  300 non-null    int64  \n",
            "dtypes: float64(1), int64(3), object(6)\n",
            "memory usage: 23.6+ KB\n"
          ]
        }
      ]
    },
    {
      "cell_type": "code",
      "source": [
        "dataset.isnull().sum()"
      ],
      "metadata": {
        "colab": {
          "base_uri": "https://localhost:8080/"
        },
        "id": "uOISJTQWLAMJ",
        "outputId": "423a37b0-8623-47c4-f49d-db5e2806420d"
      },
      "execution_count": 6,
      "outputs": [
        {
          "output_type": "execute_result",
          "data": {
            "text/plain": [
              "Time                0\n",
              "age                 0\n",
              "children            0\n",
              "BMI                 0\n",
              "smoker              0\n",
              "diabetes            0\n",
              "surgery             0\n",
              "chronic disease     0\n",
              "gender              0\n",
              "insurance amount    0\n",
              "dtype: int64"
            ]
          },
          "metadata": {},
          "execution_count": 6
        }
      ]
    },
    {
      "cell_type": "markdown",
      "source": [
        "## Dataset Analysis"
      ],
      "metadata": {
        "id": "5QMfDiQvLkG4"
      }
    },
    {
      "cell_type": "code",
      "source": [
        "#distribution of age value\n",
        "sns.set()\n",
        "plt.figure(figsize=(6,6))\n",
        "sns.displot(dataset['age'])\n",
        "plt.title('Age Distribution')\n",
        "plt.show()"
      ],
      "metadata": {
        "colab": {
          "base_uri": "https://localhost:8080/",
          "height": 398
        },
        "id": "8pN2riaiLoR5",
        "outputId": "460c2bdc-b99b-4c1f-bf86-c0aaf1470b9f"
      },
      "execution_count": 7,
      "outputs": [
        {
          "output_type": "display_data",
          "data": {
            "text/plain": [
              "<Figure size 432x432 with 0 Axes>"
            ]
          },
          "metadata": {}
        },
        {
          "output_type": "display_data",
          "data": {
            "text/plain": [
              "<Figure size 360x360 with 1 Axes>"
            ],
            "image/png": "[encoded data removed]"
          },
          "metadata": {}
        }
      ]
    },
    {
      "cell_type": "code",
      "source": [
        "#distribution of children column\n",
        "plt.figure(figsize=(6,6))\n",
        "sns.countplot(x='children',data=dataset)\n",
        "plt.title('Children Distribution')\n",
        "plt.show()"
      ],
      "metadata": {
        "colab": {
          "base_uri": "https://localhost:8080/",
          "height": 410
        },
        "id": "2kg10Lw2MWmn",
        "outputId": "6a28bee8-f713-41f9-8c6a-569118c3ca6c"
      },
      "execution_count": 8,
      "outputs": [
        {
          "output_type": "display_data",
          "data": {
            "text/plain": [
              "<Figure size 432x432 with 1 Axes>"
            ],
            "image/png": "[encoded data removed]"
          },
          "metadata": {}
        }
      ]
    },
    {
      "cell_type": "code",
      "source": [
        "#distribution of bmi\n",
        "plt.figure(figsize=(6,6))\n",
        "sns.displot(dataset['BMI'])\n",
        "plt.title('BMI Distribution')\n",
        "plt.show()"
      ],
      "metadata": {
        "colab": {
          "base_uri": "https://localhost:8080/",
          "height": 398
        },
        "id": "w7N_H503Nn7c",
        "outputId": "0554d37e-264b-4461-ac29-c4fe90651d20"
      },
      "execution_count": 9,
      "outputs": [
        {
          "output_type": "display_data",
          "data": {
            "text/plain": [
              "<Figure size 432x432 with 0 Axes>"
            ]
          },
          "metadata": {}
        },
        {
          "output_type": "display_data",
          "data": {
            "text/plain": [
              "<Figure size 360x360 with 1 Axes>"
            ],
            "image/png": "[encoded data removed]"
          },
          "metadata": {}
        }
      ]
    },
    {
      "cell_type": "code",
      "source": [
        "#distribution of smoker column\n",
        "plt.figure(figsize=(6,6))\n",
        "sns.countplot(x='smoker',data=dataset)\n",
        "plt.title('Smoker Distribution')\n",
        "plt.show()"
      ],
      "metadata": {
        "colab": {
          "base_uri": "https://localhost:8080/",
          "height": 410
        },
        "id": "ssrVJkfdN40J",
        "outputId": "e8734b7a-dd11-4789-9108-48f1730d2bcc"
      },
      "execution_count": 10,
      "outputs": [
        {
          "output_type": "display_data",
          "data": {
            "text/plain": [
              "<Figure size 432x432 with 1 Axes>"
            ],
            "image/png": "[encoded data removed]"
          },
          "metadata": {}
        }
      ]
    },
    {
      "cell_type": "code",
      "source": [
        "#distribution of diabetes column\n",
        "plt.figure(figsize=(6,6))\n",
        "sns.countplot(x='diabetes',data=dataset)\n",
        "plt.title('Diabetes Distribution')\n",
        "plt.show()"
      ],
      "metadata": {
        "colab": {
          "base_uri": "https://localhost:8080/",
          "height": 410
        },
        "id": "eBlDrcLIOSbk",
        "outputId": "9b7b6eff-eca9-4c66-9e5a-14098e66de59"
      },
      "execution_count": 11,
      "outputs": [
        {
          "output_type": "display_data",
          "data": {
            "text/plain": [
              "<Figure size 432x432 with 1 Axes>"
            ],
            "image/png": "[encoded data removed]"
          },
          "metadata": {}
        }
      ]
    },
    {
      "cell_type": "code",
      "source": [
        "#distribution of surgery column\n",
        "plt.figure(figsize=(6,6))\n",
        "sns.countplot(x='surgery',data=dataset)\n",
        "plt.title('Surgery Distribution')\n",
        "plt.show()"
      ],
      "metadata": {
        "colab": {
          "base_uri": "https://localhost:8080/",
          "height": 410
        },
        "id": "cq2GyQ8-OhMX",
        "outputId": "5f1b02d0-bf2d-4c2c-d845-753d642e5665"
      },
      "execution_count": 12,
      "outputs": [
        {
          "output_type": "display_data",
          "data": {
            "text/plain": [
              "<Figure size 432x432 with 1 Axes>"
            ],
            "image/png": "[encoded data removed]"
          },
          "metadata": {}
        }
      ]
    },
    {
      "cell_type": "code",
      "source": [
        "#distribution of chronic disease column\n",
        "plt.figure(figsize=(6,6))\n",
        "sns.countplot(x='chronic disease',data=dataset)\n",
        "plt.title('Chronic disease Distribution')\n",
        "plt.show()"
      ],
      "metadata": {
        "colab": {
          "base_uri": "https://localhost:8080/",
          "height": 410
        },
        "id": "h_kz3FNROsMs",
        "outputId": "685db29c-6a9e-4433-da56-f63e372c5585"
      },
      "execution_count": 13,
      "outputs": [
        {
          "output_type": "display_data",
          "data": {
            "text/plain": [
              "<Figure size 432x432 with 1 Axes>"
            ],
            "image/png": "[encoded data removed]"
          },
          "metadata": {}
        }
      ]
    },
    {
      "cell_type": "code",
      "source": [
        "#distribution of gender column\n",
        "plt.figure(figsize=(6,6))\n",
        "sns.countplot(x='gender',data=dataset)\n",
        "plt.title('Gender Distribution')\n",
        "plt.show()"
      ],
      "metadata": {
        "colab": {
          "base_uri": "https://localhost:8080/",
          "height": 410
        },
        "id": "pzBESfs4O7F_",
        "outputId": "3389b1ae-7745-453a-e3a7-42357f3d702a"
      },
      "execution_count": 14,
      "outputs": [
        {
          "output_type": "display_data",
          "data": {
            "text/plain": [
              "<Figure size 432x432 with 1 Axes>"
            ],
            "image/png": "[encoded data removed]"
          },
          "metadata": {}
        }
      ]
    },
    {
      "cell_type": "code",
      "source": [
        "#distribution of insurance amount\n",
        "plt.figure(figsize=(6,6))\n",
        "sns.displot(dataset['insurance amount'])\n",
        "plt.title('Insurance Amount Distribution')\n",
        "plt.show()"
      ],
      "metadata": {
        "colab": {
          "base_uri": "https://localhost:8080/",
          "height": 398
        },
        "id": "ZpEoW9kaPECY",
        "outputId": "b25b0644-ba6c-460b-86ad-4ea24e47ce8f"
      },
      "execution_count": 15,
      "outputs": [
        {
          "output_type": "display_data",
          "data": {
            "text/plain": [
              "<Figure size 432x432 with 0 Axes>"
            ]
          },
          "metadata": {}
        },
        {
          "output_type": "display_data",
          "data": {
            "text/plain": [
              "<Figure size 360x360 with 1 Axes>"
            ],
            "image/png": "[encoded data removed]"
          },
          "metadata": {}
        }
      ]
    },
    {
      "cell_type": "markdown",
      "source": [
        "## Encoding categorical data"
      ],
      "metadata": {
        "id": "5Z8H9IIQP6kd"
      }
    },
    {
      "cell_type": "code",
      "source": [
        "#smoker column\n",
        "dataset.replace({'smoker':{'Yes':1, 'No':0}}, inplace=True)\n",
        "\n",
        "#diabetes column\n",
        "dataset.replace({'diabetes':{'Yes':1, 'No':0}}, inplace=True)\n",
        "\n",
        "#surgery column\n",
        "dataset.replace({'surgery':{'Yes':1, 'No':0}}, inplace=True)\n",
        "\n",
        "#chronic disease column\n",
        "dataset.replace({'chronic disease':{'Yes':1, 'No':0}}, inplace=True)\n",
        "\n",
        "#gender column\n",
        "dataset.replace({'gender':{'Female':1, 'Male':0}}, inplace=True)"
      ],
      "metadata": {
        "id": "Ff_TdTG1QCwg"
      },
      "execution_count": 16,
      "outputs": []
    },
    {
      "cell_type": "code",
      "source": [
        "dataset.head()"
      ],
      "metadata": {
        "colab": {
          "base_uri": "https://localhost:8080/",
          "height": 206
        },
        "id": "alcW1rpFSdX7",
        "outputId": "5e71cf46-c3a9-42af-9210-f255139787fe"
      },
      "execution_count": 17,
      "outputs": [
        {
          "output_type": "execute_result",
          "data": {
            "text/plain": [
              "               Time  age  children   BMI  smoker  diabetes  surgery  \\\n",
              "0  03/11/2022 15:23   36         2  26.6       0         0        1   \n",
              "1  03/11/2022 15:24   32         0  20.8       0         0        0   \n",
              "2  03/11/2022 15:26   28         0  22.3       0         0        0   \n",
              "3  03/11/2022 15:27   68         4  28.2       1         1        1   \n",
              "4  03/11/2022 15:30   55         4  31.0       0         0        1   \n",
              "\n",
              "   chronic disease  gender  insurance amount  \n",
              "0                0       1             19000  \n",
              "1                1       1             25000  \n",
              "2                0       1             18000  \n",
              "3                1       0             40000  \n",
              "4                1       1             30000  "
            ],
            "text/html": [
              "\n",
              "  <div id=\"df-bd8b4a18-f0a4-496e-a949-55c34bc4311a\">\n",
              "    <div class=\"colab-df-container\">\n",
              "      <div>\n",
              "<style scoped>\n",
              "    .dataframe tbody tr th:only-of-type {\n",
              "        vertical-align: middle;\n",
              "    }\n",
              "\n",
              "    .dataframe tbody tr th {\n",
              "        vertical-align: top;\n",
              "    }\n",
              "\n",
              "    .dataframe thead th {\n",
              "        text-align: right;\n",
              "    }\n",
              "</style>\n",
              "<table border=\"1\" class=\"dataframe\">\n",
              "  <thead>\n",
              "    <tr style=\"text-align: right;\">\n",
              "      <th></th>\n",
              "      <th>Time</th>\n",
              "      <th>age</th>\n",
              "      <th>children</th>\n",
              "      <th>BMI</th>\n",
              "      <th>smoker</th>\n",
              "      <th>diabetes</th>\n",
              "      <th>surgery</th>\n",
              "      <th>chronic disease</th>\n",
              "      <th>gender</th>\n",
              "      <th>insurance amount</th>\n",
              "    </tr>\n",
              "  </thead>\n",
              "  <tbody>\n",
              "    <tr>\n",
              "      <th>0</th>\n",
              "      <td>03/11/2022 15:23</td>\n",
              "      <td>36</td>\n",
              "      <td>2</td>\n",
              "      <td>26.6</td>\n",
              "      <td>0</td>\n",
              "      <td>0</td>\n",
              "      <td>1</td>\n",
              "      <td>0</td>\n",
              "      <td>1</td>\n",
              "      <td>19000</td>\n",
              "    </tr>\n",
              "    <tr>\n",
              "      <th>1</th>\n",
              "      <td>03/11/2022 15:24</td>\n",
              "      <td>32</td>\n",
              "      <td>0</td>\n",
              "      <td>20.8</td>\n",
              "      <td>0</td>\n",
              "      <td>0</td>\n",
              "      <td>0</td>\n",
              "      <td>1</td>\n",
              "      <td>1</td>\n",
              "      <td>25000</td>\n",
              "    </tr>\n",
              "    <tr>\n",
              "      <th>2</th>\n",
              "      <td>03/11/2022 15:26</td>\n",
              "      <td>28</td>\n",
              "      <td>0</td>\n",
              "      <td>22.3</td>\n",
              "      <td>0</td>\n",
              "      <td>0</td>\n",
              "      <td>0</td>\n",
              "      <td>0</td>\n",
              "      <td>1</td>\n",
              "      <td>18000</td>\n",
              "    </tr>\n",
              "    <tr>\n",
              "      <th>3</th>\n",
              "      <td>03/11/2022 15:27</td>\n",
              "      <td>68</td>\n",
              "      <td>4</td>\n",
              "      <td>28.2</td>\n",
              "      <td>1</td>\n",
              "      <td>1</td>\n",
              "      <td>1</td>\n",
              "      <td>1</td>\n",
              "      <td>0</td>\n",
              "      <td>40000</td>\n",
              "    </tr>\n",
              "    <tr>\n",
              "      <th>4</th>\n",
              "      <td>03/11/2022 15:30</td>\n",
              "      <td>55</td>\n",
              "      <td>4</td>\n",
              "      <td>31.0</td>\n",
              "      <td>0</td>\n",
              "      <td>0</td>\n",
              "      <td>1</td>\n",
              "      <td>1</td>\n",
              "      <td>1</td>\n",
              "      <td>30000</td>\n",
              "    </tr>\n",
              "  </tbody>\n",
              "</table>\n",
              "</div>\n",
              "      <button class=\"colab-df-convert\" onclick=\"convertToInteractive('df-bd8b4a18-f0a4-496e-a949-55c34bc4311a')\"\n",
              "              title=\"Convert this dataframe to an interactive table.\"\n",
              "              style=\"display:none;\">\n",
              "        \n",
              "  <svg xmlns=\"http://www.w3.org/2000/svg\" height=\"24px\"viewBox=\"0 0 24 24\"\n",
              "       width=\"24px\">\n",
              "    <path d=\"M0 0h24v24H0V0z\" fill=\"none\"/>\n",
              "    <path d=\"M18.56 5.44l.94 2.06.94-2.06 2.06-.94-2.06-.94-.94-2.06-.94 2.06-2.06.94zm-11 1L8.5 8.5l.94-2.06 2.06-.94-2.06-.94L8.5 2.5l-.94 2.06-2.06.94zm10 10l.94 2.06.94-2.06 2.06-.94-2.06-.94-.94-2.06-.94 2.06-2.06.94z\"/><path d=\"M17.41 7.96l-1.37-1.37c-.4-.4-.92-.59-1.43-.59-.52 0-1.04.2-1.43.59L10.3 9.45l-7.72 7.72c-.78.78-.78 2.05 0 2.83L4 21.41c.39.39.9.59 1.41.59.51 0 1.02-.2 1.41-.59l7.78-7.78 2.81-2.81c.8-.78.8-2.07 0-2.86zM5.41 20L4 18.59l7.72-7.72 1.47 1.35L5.41 20z\"/>\n",
              "  </svg>\n",
              "      </button>\n",
              "      \n",
              "  <style>\n",
              "    .colab-df-container {\n",
              "      display:flex;\n",
              "      flex-wrap:wrap;\n",
              "      gap: 12px;\n",
              "    }\n",
              "\n",
              "    .colab-df-convert {\n",
              "      background-color: #E8F0FE;\n",
              "      border: none;\n",
              "      border-radius: 50%;\n",
              "      cursor: pointer;\n",
              "      display: none;\n",
              "      fill: #1967D2;\n",
              "      height: 32px;\n",
              "      padding: 0 0 0 0;\n",
              "      width: 32px;\n",
              "    }\n",
              "\n",
              "    .colab-df-convert:hover {\n",
              "      background-color: #E2EBFA;\n",
              "      box-shadow: 0px 1px 2px rgba(60, 64, 67, 0.3), 0px 1px 3px 1px rgba(60, 64, 67, 0.15);\n",
              "      fill: #174EA6;\n",
              "    }\n",
              "\n",
              "    [theme=dark] .colab-df-convert {\n",
              "      background-color: #3B4455;\n",
              "      fill: #D2E3FC;\n",
              "    }\n",
              "\n",
              "    [theme=dark] .colab-df-convert:hover {\n",
              "      background-color: #434B5C;\n",
              "      box-shadow: 0px 1px 3px 1px rgba(0, 0, 0, 0.15);\n",
              "      filter: drop-shadow(0px 1px 2px rgba(0, 0, 0, 0.3));\n",
              "      fill: #FFFFFF;\n",
              "    }\n",
              "  </style>\n",
              "\n",
              "      <script>\n",
              "        const buttonEl =\n",
              "          document.querySelector('#df-bd8b4a18-f0a4-496e-a949-55c34bc4311a button.colab-df-convert');\n",
              "        buttonEl.style.display =\n",
              "          google.colab.kernel.accessAllowed ? 'block' : 'none';\n",
              "\n",
              "        async function convertToInteractive(key) {\n",
              "          const element = document.querySelector('#df-bd8b4a18-f0a4-496e-a949-55c34bc4311a');\n",
              "          const dataTable =\n",
              "            await google.colab.kernel.invokeFunction('convertToInteractive',\n",
              "                                                     [key], {});\n",
              "          if (!dataTable) return;\n",
              "\n",
              "          const docLinkHtml = 'Like what you see? Visit the ' +\n",
              "            '<a target=\"_blank\" href=https://colab.research.google.com/notebooks/data_table.ipynb>data table notebook</a>'\n",
              "            + ' to learn more about interactive tables.';\n",
              "          element.innerHTML = '';\n",
              "          dataTable['output_type'] = 'display_data';\n",
              "          await google.colab.output.renderOutput(dataTable, element);\n",
              "          const docLink = document.createElement('div');\n",
              "          docLink.innerHTML = docLinkHtml;\n",
              "          element.appendChild(docLink);\n",
              "        }\n",
              "      </script>\n",
              "    </div>\n",
              "  </div>\n",
              "  "
            ]
          },
          "metadata": {},
          "execution_count": 17
        }
      ]
    },
    {
      "cell_type": "markdown",
      "source": [
        "## Splitting the dataset"
      ],
      "metadata": {
        "id": "qO4yZKDZVNf3"
      }
    },
    {
      "cell_type": "code",
      "source": [
        "#splitting features and target\n",
        "x = dataset.iloc[:, 1:-1].values\n",
        "y = dataset['insurance amount']"
      ],
      "metadata": {
        "id": "f_63rtC_WAD0"
      },
      "execution_count": 18,
      "outputs": []
    },
    {
      "cell_type": "code",
      "source": [
        "print(x)"
      ],
      "metadata": {
        "colab": {
          "base_uri": "https://localhost:8080/"
        },
        "id": "L-IEnJ2lWB0U",
        "outputId": "acc00f58-c84b-44f5-abd7-fdc3232f0d9f"
      },
      "execution_count": 19,
      "outputs": [
        {
          "output_type": "stream",
          "name": "stdout",
          "text": [
            "[[36.   2.  26.6 ...  1.   0.   1. ]\n",
            " [32.   0.  20.8 ...  0.   1.   1. ]\n",
            " [28.   0.  22.3 ...  0.   0.   1. ]\n",
            " ...\n",
            " [69.   6.  29.7 ...  1.   1.   1. ]\n",
            " [77.   4.  30.  ...  1.   1.   0. ]\n",
            " [24.   0.  23.3 ...  0.   1.   1. ]]\n"
          ]
        }
      ]
    },
    {
      "cell_type": "code",
      "source": [
        "print(y)"
      ],
      "metadata": {
        "colab": {
          "base_uri": "https://localhost:8080/"
        },
        "id": "JEtJMzTmWGBS",
        "outputId": "e381fce0-7b81-4dd1-b0a4-ec01e3c9cb2a"
      },
      "execution_count": 20,
      "outputs": [
        {
          "output_type": "stream",
          "name": "stdout",
          "text": [
            "0      19000\n",
            "1      25000\n",
            "2      18000\n",
            "3      40000\n",
            "4      30000\n",
            "       ...  \n",
            "295    36600\n",
            "296    37000\n",
            "297    38900\n",
            "298    40000\n",
            "299    18700\n",
            "Name: insurance amount, Length: 300, dtype: int64\n"
          ]
        }
      ]
    },
    {
      "cell_type": "code",
      "source": [
        "#splitting training and test set\n",
        "from sklearn.model_selection import train_test_split\n",
        "x_train, x_test, y_train, y_test = train_test_split(x, y, test_size = 0.2, random_state = 0)"
      ],
      "metadata": {
        "id": "-qHba14BXCo4"
      },
      "execution_count": 21,
      "outputs": []
    },
    {
      "cell_type": "markdown",
      "source": [
        "## Multiple Linear Regression Model\n"
      ],
      "metadata": {
        "id": "Ha8Y40HkYRLt"
      }
    },
    {
      "cell_type": "code",
      "source": [
        "#Training\n",
        "from sklearn.linear_model import LinearRegression\n",
        "regressor = LinearRegression()\n",
        "regressor.fit(x_train, y_train)"
      ],
      "metadata": {
        "colab": {
          "base_uri": "https://localhost:8080/"
        },
        "id": "nPBrqTZHYjJq",
        "outputId": "7ae759d6-a32f-4764-af56-2f5e20f38ed9"
      },
      "execution_count": 22,
      "outputs": [
        {
          "output_type": "execute_result",
          "data": {
            "text/plain": [
              "LinearRegression()"
            ]
          },
          "metadata": {},
          "execution_count": 22
        }
      ]
    },
    {
      "cell_type": "code",
      "source": [
        "#Predicting\n",
        "y_pred = regressor.predict(x_test)\n",
        "\n",
        "print('Training score : ',regressor.score(x_train,y_train))\n",
        "\n",
        "print('predictions are :\\n',y_pred)\n",
        "print('\\n')\n",
        "\n",
        "plt.scatter(y_test,y_pred)\n",
        "plt.xlabel(\"Actual Price\")\n",
        "plt.ylabel(\"Predicted Price\")\n",
        "plt.title(\"Actual price vs Predicted Price \")\n",
        "plt.show()"
      ],
      "metadata": {
        "colab": {
          "base_uri": "https://localhost:8080/",
          "height": 630
        },
        "id": "XHj5be9cY9xN",
        "outputId": "7a883d4b-8c49-4ab0-e5a1-60411be06573"
      },
      "execution_count": 23,
      "outputs": [
        {
          "output_type": "stream",
          "name": "stdout",
          "text": [
            "Training score :  0.6229856135216898\n",
            "predictions are :\n",
            " [23829.90885026 21739.32258529 33441.58984935 17998.93811671\n",
            " 30711.3839184  35263.01707717 27262.56325317 17135.24592657\n",
            " 18421.9497188  28339.24721273 24974.03598716 33445.58996172\n",
            " 19073.72822111 29504.0489859  30510.11386996 24358.51613826\n",
            " 28209.08685824 28756.1842749  38002.45901749 33017.61472571\n",
            " 29137.66868358 17568.89576677 27949.1625258  33071.55825847\n",
            " 32631.46149026 22181.70838493 32411.99799415 22838.8196986\n",
            " 27345.85970552 31722.32703041 23467.87180706 17715.65906017\n",
            " 25563.58417932 21685.64554443 30206.47194708 18371.69979437\n",
            " 31508.52577215 35204.62741124 21398.10811485 23411.78589796\n",
            " 36281.53163852 29223.92399793 29634.71316479 21528.08037782\n",
            " 20527.10942484 17719.64554004 30108.75995608 21464.95831959\n",
            " 30257.82160503 18762.43958647 27493.00584738 24179.29485771\n",
            " 18751.8712095  25124.3679931  32690.85187452 21482.2369785\n",
            " 28524.50151279 18755.09971015 28801.40575698 23367.37195821]\n",
            "\n",
            "\n"
          ]
        },
        {
          "output_type": "display_data",
          "data": {
            "text/plain": [
              "<Figure size 432x288 with 1 Axes>"
            ],
            "image/png": "[encoded data removed]"
          },
          "metadata": {}
        }
      ]
    },
    {
      "cell_type": "code",
      "source": [
        "print(y_test)"
      ],
      "metadata": {
        "colab": {
          "base_uri": "https://localhost:8080/"
        },
        "id": "n3HPs7cAv8DI",
        "outputId": "1dd1f0d9-6ad4-4013-b323-0556d9695916"
      },
      "execution_count": 24,
      "outputs": [
        {
          "output_type": "stream",
          "name": "stdout",
          "text": [
            "208    24700\n",
            "188    20800\n",
            "12     31000\n",
            "221    19500\n",
            "239    29400\n",
            "136    37400\n",
            "230    25700\n",
            "206    18200\n",
            "52     18750\n",
            "108    26500\n",
            "290    34200\n",
            "15     32000\n",
            "184    20500\n",
            "248    27400\n",
            "22     28000\n",
            "74     20000\n",
            "270    33500\n",
            "90     28700\n",
            "229    34500\n",
            "164    36500\n",
            "190    27000\n",
            "103    19900\n",
            "124    26500\n",
            "129    35800\n",
            "222    33800\n",
            "116    15000\n",
            "194    34900\n",
            "286    23500\n",
            "234    36000\n",
            "295    36600\n",
            "92     18500\n",
            "66     23000\n",
            "8      23000\n",
            "122    21700\n",
            "219    30400\n",
            "150    18000\n",
            "176    27500\n",
            "182    35500\n",
            "299    18700\n",
            "5      20000\n",
            "223    37300\n",
            "89     27500\n",
            "81     23615\n",
            "34     15000\n",
            "55     26000\n",
            "139    18500\n",
            "236    36600\n",
            "64     20000\n",
            "7      25500\n",
            "45     13500\n",
            "73     22000\n",
            "213    23800\n",
            "173    19400\n",
            "106    34800\n",
            "59     37000\n",
            "253    19200\n",
            "168    24800\n",
            "26     12000\n",
            "284    34700\n",
            "153    26800\n",
            "Name: insurance amount, dtype: int64\n"
          ]
        }
      ]
    },
    {
      "cell_type": "code",
      "source": [
        "print(y_pred)"
      ],
      "metadata": {
        "colab": {
          "base_uri": "https://localhost:8080/"
        },
        "id": "jMJC7o1QwAcs",
        "outputId": "d4eba306-0a4b-4510-db05-d92c5cea3936"
      },
      "execution_count": 25,
      "outputs": [
        {
          "output_type": "stream",
          "name": "stdout",
          "text": [
            "[23829.90885026 21739.32258529 33441.58984935 17998.93811671\n",
            " 30711.3839184  35263.01707717 27262.56325317 17135.24592657\n",
            " 18421.9497188  28339.24721273 24974.03598716 33445.58996172\n",
            " 19073.72822111 29504.0489859  30510.11386996 24358.51613826\n",
            " 28209.08685824 28756.1842749  38002.45901749 33017.61472571\n",
            " 29137.66868358 17568.89576677 27949.1625258  33071.55825847\n",
            " 32631.46149026 22181.70838493 32411.99799415 22838.8196986\n",
            " 27345.85970552 31722.32703041 23467.87180706 17715.65906017\n",
            " 25563.58417932 21685.64554443 30206.47194708 18371.69979437\n",
            " 31508.52577215 35204.62741124 21398.10811485 23411.78589796\n",
            " 36281.53163852 29223.92399793 29634.71316479 21528.08037782\n",
            " 20527.10942484 17719.64554004 30108.75995608 21464.95831959\n",
            " 30257.82160503 18762.43958647 27493.00584738 24179.29485771\n",
            " 18751.8712095  25124.3679931  32690.85187452 21482.2369785\n",
            " 28524.50151279 18755.09971015 28801.40575698 23367.37195821]\n"
          ]
        }
      ]
    },
    {
      "cell_type": "code",
      "source": [
        "#scores\n",
        "r2= r2(y_test,y_pred)\n",
        "print('R square error : ',r2)\n",
        "mse = MSE(y_test,y_pred)\n",
        "print('Mean sqaure error  : ',mse)\n",
        "mae = MAE(y_test,y_pred)\n",
        "print('Mean Absolute  error : ',mae)\n",
        "rmse = np.sqrt(MSE(y_test,y_pred))\n",
        "print('Root Mean sqaure error : ',rmse)\n"
      ],
      "metadata": {
        "colab": {
          "base_uri": "https://localhost:8080/"
        },
        "id": "EvuR-NmJa_M6",
        "outputId": "c3f59644-1740-4467-b377-5a38103a1d6a"
      },
      "execution_count": 26,
      "outputs": [
        {
          "output_type": "stream",
          "name": "stdout",
          "text": [
            "R square error :  0.6843758755331167\n",
            "Mean sqaure error  :  15484048.2384296\n",
            "Mean Absolute  error :  3116.707424078661\n",
            "Root Mean sqaure error :  3934.977539761771\n"
          ]
        }
      ]
    },
    {
      "cell_type": "code",
      "source": [
        "sns.distplot(y_test-y_pred)"
      ],
      "metadata": {
        "colab": {
          "base_uri": "https://localhost:8080/",
          "height": 357
        },
        "id": "htFv2Fs91jeq",
        "outputId": "0cdd5818-735c-4842-d110-95849d8ff8d8"
      },
      "execution_count": 27,
      "outputs": [
        {
          "output_type": "stream",
          "name": "stderr",
          "text": [
            "/usr/local/lib/python3.7/dist-packages/seaborn/distributions.py:2619: FutureWarning: `distplot` is a deprecated function and will be removed in a future version. Please adapt your code to use either `displot` (a figure-level function with similar flexibility) or `histplot` (an axes-level function for histograms).\n",
            "  warnings.warn(msg, FutureWarning)\n"
          ]
        },
        {
          "output_type": "execute_result",
          "data": {
            "text/plain": [
              "<matplotlib.axes._subplots.AxesSubplot at 0x7fd3df101310>"
            ]
          },
          "metadata": {},
          "execution_count": 27
        },
        {
          "output_type": "display_data",
          "data": {
            "text/plain": [
              "<Figure size 432x288 with 1 Axes>"
            ],
            "image/png": "[encoded data removed]"
          },
          "metadata": {}
        }
      ]
    },
    {
      "cell_type": "markdown",
      "source": [
        "## K-Nearest Neighbours Regression Model"
      ],
      "metadata": {
        "id": "6YiJpdZB2ixJ"
      }
    },
    {
      "cell_type": "code",
      "source": [
        "#Training\n",
        "from sklearn.neighbors import KNeighborsRegressor\n",
        "knn=KNeighborsRegressor(n_neighbors=15)\n",
        "knn.fit(x_train,y_train)"
      ],
      "metadata": {
        "colab": {
          "base_uri": "https://localhost:8080/"
        },
        "id": "QZ50L_CcByr-",
        "outputId": "7f354fb2-960d-4f3e-e3c2-482800e88870"
      },
      "execution_count": 28,
      "outputs": [
        {
          "output_type": "execute_result",
          "data": {
            "text/plain": [
              "KNeighborsRegressor(n_neighbors=15)"
            ]
          },
          "metadata": {},
          "execution_count": 28
        }
      ]
    },
    {
      "cell_type": "code",
      "source": [
        "#Predicting\n",
        "y_pred = knn.predict(x_test)\n",
        "\n",
        "print('Training score : ',knn.score(x_train,y_train))\n",
        "\n",
        "print('predictions are :\\n',y_pred)\n",
        "print('\\n')\n",
        "\n",
        "plt.scatter(y_test,y_pred)\n",
        "plt.xlabel(\"Actual Price\")\n",
        "plt.ylabel(\"Predicted Price\")\n",
        "plt.title(\"Actual price vs Predicted Price \")\n",
        "plt.show()"
      ],
      "metadata": {
        "colab": {
          "base_uri": "https://localhost:8080/",
          "height": 630
        },
        "id": "puj9rGoQCBf1",
        "outputId": "231dbd27-fc5d-41a7-864d-9dd59237a19f"
      },
      "execution_count": 29,
      "outputs": [
        {
          "output_type": "stream",
          "name": "stdout",
          "text": [
            "Training score :  0.6229856135216898\n",
            "predictions are :\n",
            " [24086.66666667 21773.33333333 33280.         20860.\n",
            " 30773.33333333 34860.         24146.66666667 19926.66666667\n",
            " 18753.33333333 33440.         32933.33333333 32104.66666667\n",
            " 20420.         27733.33333333 33026.66666667 24433.33333333\n",
            " 30760.         27166.66666667 36202.66666667 32960.\n",
            " 23613.33333333 19506.66666667 26846.66666667 31040.\n",
            " 33713.33333333 28540.         32806.66666667 20846.66666667\n",
            " 29046.66666667 33833.33333333 27566.66666667 20600.\n",
            " 30240.         20680.         29660.         18753.33333333\n",
            " 25520.         34886.66666667 19626.66666667 27053.33333333\n",
            " 31671.33333333 31646.66666667 31814.         27000.\n",
            " 18120.         20146.66666667 32620.         19540.\n",
            " 33313.33333333 21213.33333333 29806.66666667 20940.\n",
            " 20706.66666667 24173.33333333 33640.         20086.66666667\n",
            " 25840.         19246.66666667 30006.66666667 26926.66666667]\n",
            "\n",
            "\n"
          ]
        },
        {
          "output_type": "display_data",
          "data": {
            "text/plain": [
              "<Figure size 432x288 with 1 Axes>"
            ],
            "image/png": "[encoded data removed]"
          },
          "metadata": {}
        }
      ]
    },
    {
      "cell_type": "code",
      "source": [
        "#scores\n",
        "r2= r2(y_test,y_pred)\n",
        "print('R square error : ',r2)\n",
        "mse = MSE(y_test,y_pred)\n",
        "print('Mean sqaure error  : ',mse)\n",
        "mae = MAE(y_test,y_pred)\n",
        "print('Mean Absolute  error : ',mae)\n",
        "rmse = np.sqrt(MSE(y_test,y_pred))\n",
        "print('Root Mean sqaure error : ',rmse)\n"
      ],
      "metadata": {
        "colab": {
          "base_uri": "https://localhost:8080/"
        },
        "id": "TdGAB90eCQmu",
        "outputId": "da93b7bf-602e-4d97-ed3a-8cf39cab232e"
      },
      "execution_count": 32,
      "outputs": [
        {
          "output_type": "stream",
          "name": "stdout",
          "text": [
            "R square error :  0.5387160496840765\n",
            "Mean sqaure error  :  22629901.787037037\n",
            "Mean Absolute  error :  3471.9722222222217\n",
            "Root Mean sqaure error :  4757.089634118432\n"
          ]
        }
      ]
    },
    {
      "cell_type": "code",
      "source": [
        "sns.distplot(y_test-y_pred)"
      ],
      "metadata": {
        "colab": {
          "base_uri": "https://localhost:8080/",
          "height": 357
        },
        "id": "GlyPCJNICZZZ",
        "outputId": "29db0b7d-8b85-47bb-d99b-d24ba37fa97c"
      },
      "execution_count": 33,
      "outputs": [
        {
          "output_type": "stream",
          "name": "stderr",
          "text": [
            "/usr/local/lib/python3.7/dist-packages/seaborn/distributions.py:2619: FutureWarning: `distplot` is a deprecated function and will be removed in a future version. Please adapt your code to use either `displot` (a figure-level function with similar flexibility) or `histplot` (an axes-level function for histograms).\n",
            "  warnings.warn(msg, FutureWarning)\n"
          ]
        },
        {
          "output_type": "execute_result",
          "data": {
            "text/plain": [
              "<matplotlib.axes._subplots.AxesSubplot at 0x7fd3e16780d0>"
            ]
          },
          "metadata": {},
          "execution_count": 33
        },
        {
          "output_type": "display_data",
          "data": {
            "text/plain": [
              "<Figure size 432x288 with 1 Axes>"
            ],
            "image/png": "[encoded data removed]"
          },
          "metadata": {}
        }
      ]
    },
    {
      "cell_type": "markdown",
      "source": [
        "## Support Vector Regression Model"
      ],
      "metadata": {
        "id": "Wih3uf6iCr2G"
      }
    },
    {
      "cell_type": "code",
      "source": [
        "#Training\n",
        "from sklearn.svm import SVR\n",
        "svr=SVR(kernel='poly')\n",
        "svr.fit(x_train,y_train)"
      ],
      "metadata": {
        "colab": {
          "base_uri": "https://localhost:8080/"
        },
        "id": "bQ1XiPrKCyAe",
        "outputId": "4d6a7bff-265c-40b9-cc22-3c776267e11a"
      },
      "execution_count": 56,
      "outputs": [
        {
          "output_type": "execute_result",
          "data": {
            "text/plain": [
              "SVR(kernel='poly')"
            ]
          },
          "metadata": {},
          "execution_count": 56
        }
      ]
    },
    {
      "cell_type": "code",
      "source": [
        "#Predicting\n",
        "y_pred = svr.predict(x_test)\n",
        "\n",
        "print('Training score : ',svr.score(x_train,y_train))\n",
        "\n",
        "print('predictions are :\\n',y_pred)\n",
        "print('\\n')\n",
        "\n",
        "plt.scatter(y_test,y_pred)\n",
        "plt.xlabel(\"Actual Price\")\n",
        "plt.ylabel(\"Predicted Price\")\n",
        "plt.title(\"Actual price vs Predicted Price \")\n",
        "plt.show()"
      ],
      "metadata": {
        "colab": {
          "base_uri": "https://localhost:8080/",
          "height": 630
        },
        "id": "l0okSEstDNHx",
        "outputId": "9bb6d176-f34b-4545-b378-88019fdf2eae"
      },
      "execution_count": 57,
      "outputs": [
        {
          "output_type": "stream",
          "name": "stdout",
          "text": [
            "Training score :  0.029645064049166003\n",
            "predictions are :\n",
            " [26888.22392618 26808.5959661  27196.21195007 26788.59904716\n",
            " 26984.61122624 27437.36130415 26853.45004191 26788.58583707\n",
            " 26790.05256297 27164.69370443 27210.77425113 27230.40441335\n",
            " 26794.30921635 26923.46798611 27217.71081077 26879.23450757\n",
            " 27000.03103763 26908.81956307 27505.09591086 27201.39700535\n",
            " 26870.27496928 26782.02011596 26897.09879303 27029.22415476\n",
            " 27108.49624381 27002.74830279 27047.70289247 26810.98469567\n",
            " 26988.88121344 27348.51698844 26929.4172603  26787.86707672\n",
            " 26968.49140066 26804.76302036 27011.01854828 26789.58975654\n",
            " 26882.81040816 27075.68551115 26788.32641718 26913.85570375\n",
            " 27251.96457985 27047.68817597 27313.61870361 26959.13242796\n",
            " 26780.83719297 26783.28269265 27047.95435909 26806.46456501\n",
            " 27081.8655419  26817.82691599 26984.89514683 26811.81944221\n",
            " 26806.93208803 26891.81208319 27114.46248631 26798.66526279\n",
            " 26885.54509595 26782.52159312 27017.4739747  26927.09456052]\n",
            "\n",
            "\n"
          ]
        },
        {
          "output_type": "display_data",
          "data": {
            "text/plain": [
              "<Figure size 432x288 with 1 Axes>"
            ],
            "image/png": "[encoded data removed]"
          },
          "metadata": {}
        }
      ]
    },
    {
      "cell_type": "code",
      "source": [
        "#scores\n",
        "r2= r2(y_test,y_pred)\n",
        "print('R square error : ',r2)\n",
        "mse = MSE(y_test,y_pred)\n",
        "print('Mean sqaure error  : ',mse)\n",
        "mae = MAE(y_test,y_pred)\n",
        "print('Mean Absolute  error : ',mae)\n",
        "rmse = np.sqrt(MSE(y_test,y_pred))\n",
        "print('Root Mean sqaure error : ',rmse)\n"
      ],
      "metadata": {
        "colab": {
          "base_uri": "https://localhost:8080/"
        },
        "id": "s5-NjdJLDpkd",
        "outputId": "d86bfdff-a537-407f-d5e1-37e513bca92d"
      },
      "execution_count": 38,
      "outputs": [
        {
          "output_type": "stream",
          "name": "stdout",
          "text": [
            "R square error :  0.021425028793325862\n",
            "Mean sqaure error  :  48007426.82352802\n",
            "Mean Absolute  error :  5910.942608910112\n",
            "Root Mean sqaure error :  6928.739194364875\n"
          ]
        }
      ]
    },
    {
      "cell_type": "code",
      "source": [
        "sns.distplot(y_test-y_pred)"
      ],
      "metadata": {
        "colab": {
          "base_uri": "https://localhost:8080/",
          "height": 368
        },
        "id": "T_aGIrTSDzXD",
        "outputId": "18af6063-9e81-49c1-8728-27aadbba3328"
      },
      "execution_count": 39,
      "outputs": [
        {
          "output_type": "stream",
          "name": "stderr",
          "text": [
            "/usr/local/lib/python3.7/dist-packages/seaborn/distributions.py:2619: FutureWarning: `distplot` is a deprecated function and will be removed in a future version. Please adapt your code to use either `displot` (a figure-level function with similar flexibility) or `histplot` (an axes-level function for histograms).\n",
            "  warnings.warn(msg, FutureWarning)\n"
          ]
        },
        {
          "output_type": "execute_result",
          "data": {
            "text/plain": [
              "<matplotlib.axes._subplots.AxesSubplot at 0x7fd3e19190d0>"
            ]
          },
          "metadata": {},
          "execution_count": 39
        },
        {
          "output_type": "display_data",
          "data": {
            "text/plain": [
              "<Figure size 432x288 with 1 Axes>"
            ],
            "image/png": "[encoded data removed]"
          },
          "metadata": {}
        }
      ]
    },
    {
      "cell_type": "markdown",
      "source": [
        "## Decision Tree Regression Model"
      ],
      "metadata": {
        "id": "vcwD1LMUD6xU"
      }
    },
    {
      "cell_type": "code",
      "source": [
        "#Training\n",
        "from sklearn.tree import DecisionTreeRegressor\n",
        "dt=DecisionTreeRegressor(random_state=0)\n",
        "dt.fit(x_train,y_train)"
      ],
      "metadata": {
        "colab": {
          "base_uri": "https://localhost:8080/"
        },
        "id": "WypQX-_pEAaz",
        "outputId": "1cab4c95-adbd-4916-98c5-7efb0e7ae316"
      },
      "execution_count": 41,
      "outputs": [
        {
          "output_type": "execute_result",
          "data": {
            "text/plain": [
              "DecisionTreeRegressor(random_state=0)"
            ]
          },
          "metadata": {},
          "execution_count": 41
        }
      ]
    },
    {
      "cell_type": "code",
      "source": [
        "#Predicting\n",
        "y_pred = dt.predict(x_test)\n",
        "\n",
        "print('Training score : ',dt.score(x_train,y_train))\n",
        "\n",
        "print('predictions are :\\n',y_pred)\n",
        "print('\\n')\n",
        "\n",
        "plt.scatter(y_test,y_pred)\n",
        "plt.xlabel(\"Actual Price\")\n",
        "plt.ylabel(\"Predicted Price\")\n",
        "plt.title(\"Actual price vs Predicted Price \")\n",
        "plt.show()"
      ],
      "metadata": {
        "colab": {
          "base_uri": "https://localhost:8080/",
          "height": 474
        },
        "id": "P8iNLi2sERgK",
        "outputId": "f1f410fb-f788-448b-caec-a6b076c4f5b3"
      },
      "execution_count": 42,
      "outputs": [
        {
          "output_type": "stream",
          "name": "stdout",
          "text": [
            "Training score :  0.9755804345145775\n",
            "predictions are :\n",
            " [24400. 22300. 28000. 18000. 32500. 37000. 27000. 18000. 18200. 33000.\n",
            " 35000. 32300. 18000. 28500. 37300. 30600. 26500. 25500. 38500. 37300.\n",
            " 23500. 18000. 26900. 32500. 35000. 17500. 35100. 28800. 21000. 37000.\n",
            " 22000. 23000. 21000. 22000. 28600. 18100. 27100. 31500. 22300. 22000.\n",
            " 37000. 30800. 13770. 12200. 22300. 18000. 37200. 22200. 36000. 20000.\n",
            " 32500. 20400. 18000. 25000. 27500. 22300. 23500. 18000. 30800. 22000.]\n",
            "\n",
            "\n"
          ]
        },
        {
          "output_type": "display_data",
          "data": {
            "text/plain": [
              "<Figure size 432x288 with 1 Axes>"
            ],
            "image/png": "[encoded data removed]"
          },
          "metadata": {}
        }
      ]
    },
    {
      "cell_type": "code",
      "source": [
        "#scores\n",
        "r2= r2(y_test,y_pred)\n",
        "print('R square error : ',r2)\n",
        "mse = MSE(y_test,y_pred)\n",
        "print('Mean sqaure error  : ',mse)\n",
        "mae = MAE(y_test,y_pred)\n",
        "print('Mean Absolute  error : ',mae)\n",
        "rmse = np.sqrt(MSE(y_test,y_pred))\n",
        "print('Root Mean sqaure error : ',rmse)\n"
      ],
      "metadata": {
        "colab": {
          "base_uri": "https://localhost:8080/"
        },
        "id": "pDSLXBxiEaUv",
        "outputId": "ff41655a-c5e2-4b8c-a706-9cbe966b907e"
      },
      "execution_count": 44,
      "outputs": [
        {
          "output_type": "stream",
          "name": "stdout",
          "text": [
            "R square error :  0.5331572387648762\n",
            "Mean sqaure error  :  22902608.75\n",
            "Mean Absolute  error :  3388.25\n",
            "Root Mean sqaure error :  4785.667012026641\n"
          ]
        }
      ]
    },
    {
      "cell_type": "code",
      "source": [
        "sns.distplot(y_test-y_pred)"
      ],
      "metadata": {
        "colab": {
          "base_uri": "https://localhost:8080/",
          "height": 357
        },
        "id": "v3F8HPqWEiQS",
        "outputId": "30d06d24-c637-45ba-dfaf-397314c5c9e8"
      },
      "execution_count": 45,
      "outputs": [
        {
          "output_type": "stream",
          "name": "stderr",
          "text": [
            "/usr/local/lib/python3.7/dist-packages/seaborn/distributions.py:2619: FutureWarning: `distplot` is a deprecated function and will be removed in a future version. Please adapt your code to use either `displot` (a figure-level function with similar flexibility) or `histplot` (an axes-level function for histograms).\n",
            "  warnings.warn(msg, FutureWarning)\n"
          ]
        },
        {
          "output_type": "execute_result",
          "data": {
            "text/plain": [
              "<matplotlib.axes._subplots.AxesSubplot at 0x7fd3de780ed0>"
            ]
          },
          "metadata": {},
          "execution_count": 45
        },
        {
          "output_type": "display_data",
          "data": {
            "text/plain": [
              "<Figure size 432x288 with 1 Axes>"
            ],
            "image/png": "[encoded data removed]"
          },
          "metadata": {}
        }
      ]
    },
    {
      "cell_type": "markdown",
      "source": [
        "## Random Forest Regression Model"
      ],
      "metadata": {
        "id": "3O8zoaXuEnbL"
      }
    },
    {
      "cell_type": "code",
      "source": [
        "#Training\n",
        "from sklearn.ensemble import RandomForestRegressor\n",
        "rf=RandomForestRegressor()\n",
        "rf.fit(x_train,y_train)"
      ],
      "metadata": {
        "colab": {
          "base_uri": "https://localhost:8080/"
        },
        "id": "FXuyUw0rErB2",
        "outputId": "35cc6770-5d6c-451c-addb-4942940e708d"
      },
      "execution_count": 47,
      "outputs": [
        {
          "output_type": "execute_result",
          "data": {
            "text/plain": [
              "RandomForestRegressor()"
            ]
          },
          "metadata": {},
          "execution_count": 47
        }
      ]
    },
    {
      "cell_type": "code",
      "source": [
        "#Predicting\n",
        "y_pred = rf.predict(x_test)\n",
        "\n",
        "print('Training score : ',rf.score(x_train,y_train))\n",
        "\n",
        "print('predictions are :\\n',y_pred)\n",
        "print('\\n')\n",
        "\n",
        "plt.scatter(y_test,y_pred)\n",
        "plt.xlabel(\"Actual Price\")\n",
        "plt.ylabel(\"Predicted Price\")\n",
        "plt.title(\"Actual price vs Predicted Price \")\n",
        "plt.show()"
      ],
      "metadata": {
        "colab": {
          "base_uri": "https://localhost:8080/",
          "height": 630
        },
        "id": "YjOKHNhwE6JM",
        "outputId": "96932dee-ceca-408f-abbe-c400381edb85"
      },
      "execution_count": 48,
      "outputs": [
        {
          "output_type": "stream",
          "name": "stdout",
          "text": [
            "Training score :  0.9163365158954438\n",
            "predictions are :\n",
            " [25047.4        22223.         32114.4        18638.\n",
            " 31440.         35633.4        27780.         18774.66666667\n",
            " 17082.16666667 32794.         33019.1        33148.\n",
            " 18516.16666667 30133.         31589.         26729.\n",
            " 26260.         26201.25       38495.         31648.\n",
            " 27055.2        15645.33333333 26480.         31528.\n",
            " 35281.         20477.         32678.         25999.\n",
            " 24825.         32842.2        22670.         20912.33333333\n",
            " 24507.         22554.33333333 30660.         17077.16666667\n",
            " 28721.         35382.         20362.         22642.33333333\n",
            " 36509.         24681.         26287.3        22472.\n",
            " 18479.         18381.33333333 33176.         21993.5\n",
            " 32108.         20024.         29670.         22546.\n",
            " 17862.         24540.95       33029.8        21658.\n",
            " 26233.         18583.         27741.         22299.75      ]\n",
            "\n",
            "\n"
          ]
        },
        {
          "output_type": "display_data",
          "data": {
            "text/plain": [
              "<Figure size 432x288 with 1 Axes>"
            ],
            "image/png": "[encoded data removed]"
          },
          "metadata": {}
        }
      ]
    },
    {
      "cell_type": "code",
      "source": [
        "#scores\n",
        "r2= r2(y_test,y_pred)\n",
        "print('R square error : ',r2)\n",
        "mse = MSE(y_test,y_pred)\n",
        "print('Mean sqaure error  : ',mse)\n",
        "mae = MAE(y_test,y_pred)\n",
        "print('Mean Absolute  error : ',mae)\n",
        "rmse = np.sqrt(MSE(y_test,y_pred))\n",
        "print('Root Mean sqaure error : ',rmse)"
      ],
      "metadata": {
        "colab": {
          "base_uri": "https://localhost:8080/"
        },
        "id": "ag8uFXZFFAGL",
        "outputId": "c1927b6c-139e-4564-cc6d-e0b5f40696f8"
      },
      "execution_count": 50,
      "outputs": [
        {
          "output_type": "stream",
          "name": "stdout",
          "text": [
            "R square error :  0.6539872707856098\n",
            "Mean sqaure error  :  16974867.80934722\n",
            "Mean Absolute  error :  3189.103055555556\n",
            "Root Mean sqaure error :  4120.0567725878755\n"
          ]
        }
      ]
    },
    {
      "cell_type": "code",
      "source": [
        "sns.distplot(y_test-y_pred)"
      ],
      "metadata": {
        "colab": {
          "base_uri": "https://localhost:8080/",
          "height": 357
        },
        "id": "I5iK1YhWFHEV",
        "outputId": "4e6aaf4c-439a-441a-b90d-f732f3ba3c97"
      },
      "execution_count": 51,
      "outputs": [
        {
          "output_type": "stream",
          "name": "stderr",
          "text": [
            "/usr/local/lib/python3.7/dist-packages/seaborn/distributions.py:2619: FutureWarning: `distplot` is a deprecated function and will be removed in a future version. Please adapt your code to use either `displot` (a figure-level function with similar flexibility) or `histplot` (an axes-level function for histograms).\n",
            "  warnings.warn(msg, FutureWarning)\n"
          ]
        },
        {
          "output_type": "execute_result",
          "data": {
            "text/plain": [
              "<matplotlib.axes._subplots.AxesSubplot at 0x7fd3de392f50>"
            ]
          },
          "metadata": {},
          "execution_count": 51
        },
        {
          "output_type": "display_data",
          "data": {
            "text/plain": [
              "<Figure size 432x288 with 1 Axes>"
            ],
            "image/png": "[encoded data removed]"
          },
          "metadata": {}
        }
      ]
    }
  ]
}